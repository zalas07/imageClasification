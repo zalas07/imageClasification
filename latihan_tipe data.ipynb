{
 "cells": [
  {
   "cell_type": "code",
   "execution_count": 9,
   "id": "3c0eed43",
   "metadata": {},
   "outputs": [
    {
     "name": "stdout",
     "output_type": "stream",
     "text": [
      "37\n",
      "90\n"
     ]
    }
   ],
   "source": [
    "#deklarasi variabel list\n",
    "\n",
    "numbers = [1,9,90,23,56]\n",
    "\n",
    "numbers[0] =37\n",
    "print(numbers[0])\n",
    "print(numbers[2])\n",
    "\n",
    "numbers.insert(34,69)\n"
   ]
  },
  {
   "cell_type": "code",
   "execution_count": null,
   "id": "7a40b2d8",
   "metadata": {},
   "outputs": [],
   "source": [
    "##latihan dictionarry"
   ]
  },
  {
   "cell_type": "code",
   "execution_count": 2,
   "id": "a46d3a63",
   "metadata": {},
   "outputs": [
    {
     "name": "stdout",
     "output_type": "stream",
     "text": [
      "{'hh': 9, 'mm': 23, 'ss': 57}\n",
      "{'hh': 15, 'mm': 25, 'ss': 43}\n"
     ]
    }
   ],
   "source": [
    "startTime ={\"hh\":9, \"mm\":23,\"ss\":57}\n",
    "endTime = {\"hh\":15,\"mm\":25,\"ss\":43}\n",
    "\n",
    "print(startTime)\n",
    "print(endTime)"
   ]
  },
  {
   "cell_type": "code",
   "execution_count": 5,
   "id": "6bb61e06",
   "metadata": {},
   "outputs": [
    {
     "name": "stdout",
     "output_type": "stream",
     "text": [
      "uang kembali yang di dapat oleh bima setelah membeli mie ayam basso adalah:8000\n"
     ]
    }
   ],
   "source": [
    "food = \"mie ayam baso\"\n",
    "harga = 12000\n",
    "jumlah_duit = 20000\n",
    "\n",
    "kembalian = jumlah_duit - harga\n",
    "\n",
    "#menyisipkan dan mencetak variable pada sebuah baris text menggunakan perintah print(f\"...\")\n",
    "print(f\"uang kembali yang di dapat oleh bima setelah membeli mie ayam basso adalah:{kembalian}\")"
   ]
  },
  {
   "cell_type": "markdown",
   "id": "f0a2299d",
   "metadata": {},
   "source": [
    "membuat source code inputan menggunakan perintah input()"
   ]
  },
  {
   "cell_type": "code",
   "execution_count": 6,
   "id": "becf28f2",
   "metadata": {},
   "outputs": [
    {
     "name": "stdout",
     "output_type": "stream",
     "text": [
      "berapa harga mie ayam baso? \n",
      "12000\n",
      "harganya adalah: \n",
      "12000\n",
      "kembalian uang kamu adalah sejumlah 8000\n"
     ]
    }
   ],
   "source": [
    "#perintah \\n di gunakan untuk mengakhiri baris perintah ketika input di masukkan\n",
    "harga_makan = int(input(\"berapa harga mie ayam baso? \\n\"))\n",
    "harga_mie = int(input(\"harganya adalah: \\n\"))\n",
    "duit = 20000\n",
    "\n",
    "kembalian = duit - harga_makan\n",
    "\n",
    "print(f\"kembalian uang kamu adalah sejumlah {kembalian}\")"
   ]
  },
  {
   "cell_type": "code",
   "execution_count": 2,
   "id": "e7e1e556",
   "metadata": {},
   "outputs": [
    {
     "name": "stdout",
     "output_type": "stream",
     "text": [
      "masukkan jumlah camilan yang di inginkan 10\n",
      "Stok saat ini adalah 40 buah.\n"
     ]
    }
   ],
   "source": [
    "#contoh soal dua dari source dicoding\n",
    "# Tulis kode Anda di bawah inihu\n",
    "chocolateBarStock:int = 50\n",
    "    \n",
    "chocolateBarCount:int=int(input(\"masukkan jumlah camilan yang di inginkan \"))\n",
    "\n",
    "newChocolateBarStock:int = chocolateBarStock - chocolateBarCount\n",
    "    \n",
    "print(f\"Stok saat ini adalah {newChocolateBarStock} buah.\")"
   ]
  },
  {
   "cell_type": "markdown",
   "id": "f5c1fd92",
   "metadata": {},
   "source": [
    "latihan melakukan pengkondisian menggunakan perintah if else"
   ]
  },
  {
   "cell_type": "code",
   "execution_count": 8,
   "id": "90c9e0f8",
   "metadata": {},
   "outputs": [
    {
     "name": "stdout",
     "output_type": "stream",
     "text": [
      "gak usa bawa payung dan pake jaket\n"
     ]
    }
   ],
   "source": [
    "hujan = False\n",
    "mendung= False\n",
    "\n",
    "if (hujan):\n",
    "    print(\"bawa payung\")\n",
    "elif (mendung):\n",
    "    print(\"bawa jaket\")\n",
    "else:\n",
    "    print(\"gak usa bawa payung dan pake jaket\")"
   ]
  },
  {
   "cell_type": "markdown",
   "id": "09501d4f",
   "metadata": {},
   "source": [
    "latihan melakukan pengkondisian dengan match"
   ]
  },
  {
   "cell_type": "code",
   "execution_count": 18,
   "id": "e9af439e",
   "metadata": {},
   "outputs": [
    {
     "name": "stdout",
     "output_type": "stream",
     "text": [
      "Masukkan suhu: 200\n",
      "Air berubah menjadi gas.\n"
     ]
    }
   ],
   "source": [
    "temperature: float = float(input(\"Masukkan suhu: \"))\n",
    "\n",
    "if temperature > 100.0:\n",
    "\n",
    "    print(\"Air berubah menjadi gas.\")\n",
    "\n",
    "elif temperature <= 100.0 and temperature >= 0.0:\n",
    "\n",
    "    print(\"Air tetap berupa cairan.\")\n",
    "\n",
    "elif temperature < 0.0:\n",
    "\n",
    "    print(\"Air berubah menjadi padat.\")"
   ]
  },
  {
   "cell_type": "markdown",
   "id": "929632da",
   "metadata": {},
   "source": [
    "\"\"\"\n",
    "TODO:\n",
    " 1. Buatlah variabel isSick bertipe data boolean yang bernilai **False** untuk menyimpan status sakit.\n",
    " 2. Buatlah perintah untuk meminta masukan pengguna yang bertipe data float dan simpan pada variabel temperature.\n",
    " 3. Ada pengecekan variabel temperature sesuai dengan kebutuhan.\n",
    "    3.1. Jika temperature 38 ke atas akan mencetak teks \"Anda mengalami sakit demam.\" dan ubahlah status isSick menjadi True.\n",
    "    3.2. Jika temperature di antara 35 dan 38 akan mencetak teks \"Suhu tubuh Anda normal.\"\n",
    "    3.3. Jika temperature kurang dari atau sama dengan 35 akan mencetak teks \"Anda terjangkit sakit hipotermia.\" dan ubahlah status isSick menjadi True.\n",
    " 4. Ada pemberian saran apabila sedang mengalami sakit.\n",
    "    4.1. Gunakan variabel isSick untuk memeriksa sedang sakit atau tidak.\n",
    "    4.2. Jika mengalami sakit, program akan mencetak teks \"Anda disarankan istirahat atau kunjungi dokter secepatnya.\"\n",
    "\"\"\"\n",
    "\n",
    "#### Tulis kode Anda di bawah ini\n"
   ]
  },
  {
   "cell_type": "code",
   "execution_count": 31,
   "id": "cc602836",
   "metadata": {},
   "outputs": [
    {
     "name": "stdout",
     "output_type": "stream",
     "text": [
      "suhu tubuh: \n",
      "39\n",
      "Anda mengalami sakit demam.\n",
      "Anda disarankan istirahat atau kunjungi dokter secepatnya.\n"
     ]
    }
   ],
   "source": [
    "isSick:bool = False\n",
    "temparature:float = float(input(\"suhu tubuh: \\n\"))\n",
    "\n",
    "if temparature >= 38:\n",
    "    print(\"Anda mengalami sakit demam.\")\n",
    "    isSick:bool = True\n",
    "elif temparature >= 35 and temparature <= 38:\n",
    "    print(\"Suhu tubuh Anda normal.\")\n",
    "else:\n",
    "    print(\"Anda terjangkit sakit hipotermia.\")\n",
    "    isSick:bool = True\n",
    "\n",
    "if  isSick == True :\n",
    "        print(\"Anda disarankan istirahat atau kunjungi dokter secepatnya.\")\n",
    "        \n",
    "    "
   ]
  },
  {
   "cell_type": "markdown",
   "id": "5a341930",
   "metadata": {},
   "source": [
    "latihan melakukan perulangan di dalam python"
   ]
  },
  {
   "cell_type": "code",
   "execution_count": 1,
   "id": "1a4fd029",
   "metadata": {},
   "outputs": [
    {
     "name": "stdout",
     "output_type": "stream",
     "text": [
      "print ini sebanyak lima kali\n",
      "print ini sebanyak lima kali\n",
      "print ini sebanyak lima kali\n",
      "print ini sebanyak lima kali\n",
      "print ini sebanyak lima kali\n"
     ]
    }
   ],
   "source": [
    "for _ in range(5):\n",
    "    print(\"print ini sebanyak lima kali\")"
   ]
  },
  {
   "cell_type": "code",
   "execution_count": 5,
   "id": "1717e77b",
   "metadata": {},
   "outputs": [
    {
     "name": "stdout",
     "output_type": "stream",
     "text": [
      "angka i adalah 0\n",
      "angka i adalah 1\n",
      "angka i adalah 2\n",
      "angka i adalah 3\n",
      "angka i adalah 4\n"
     ]
    }
   ],
   "source": [
    "for i in range(5):\n",
    "    print(f\"angka i adalah {i}\")"
   ]
  },
  {
   "cell_type": "markdown",
   "id": "8777a416",
   "metadata": {},
   "source": [
    "menggunakan object tuple"
   ]
  },
  {
   "cell_type": "code",
   "execution_count": 7,
   "id": "8e3b64f1",
   "metadata": {},
   "outputs": [
    {
     "name": "stdout",
     "output_type": "stream",
     "text": [
      "======objek tuple menggunakan perulangan=======\n",
      "nilai dari i adalah harry\n",
      "nilai dari i adalah 0.3\n",
      "nilai dari i adalah 20\n",
      "nilai dari i adalah zalas\n"
     ]
    }
   ],
   "source": [
    "print(\"======objek tuple menggunakan perulangan=======\")\n",
    "for i in [\"harry\",0.3, 20 ,\"zalas\"]:\n",
    "    print(f\"nilai dari i adalah {i}\")"
   ]
  },
  {
   "cell_type": "code",
   "execution_count": 8,
   "id": "6197d4f5",
   "metadata": {},
   "outputs": [
    {
     "name": "stdout",
     "output_type": "stream",
     "text": [
      "h\n",
      "a\n",
      "r\n",
      "r\n",
      "y\n"
     ]
    }
   ],
   "source": [
    "for i in (\"harry\"):\n",
    "    print(F\"{i}\")"
   ]
  },
  {
   "cell_type": "code",
   "execution_count": 9,
   "id": "6dce6c26",
   "metadata": {},
   "outputs": [
    {
     "name": "stdout",
     "output_type": "stream",
     "text": [
      "ini angka 0\n",
      "ini angka 1\n",
      "ini angka 2\n",
      "ini angka 3\n",
      "ini angka 4\n",
      "ini angka 5\n",
      "ini angka 6\n"
     ]
    }
   ],
   "source": [
    "number = 0\n",
    "\n",
    "while number <7:\n",
    "    print(f\"ini angka {number}\")\n",
    "    number = number +1"
   ]
  },
  {
   "cell_type": "markdown",
   "id": "fa2e72c2",
   "metadata": {},
   "source": [
    "looping make syntaks break dan continue"
   ]
  },
  {
   "cell_type": "code",
   "execution_count": 10,
   "id": "b02b32f5",
   "metadata": {},
   "outputs": [
    {
     "name": "stdout",
     "output_type": "stream",
     "text": [
      "Ini adalah lantai 1\n",
      "Melewati lantai 1\n",
      "Ini adalah lantai 2\n",
      "Berhenti di lantai 2\n"
     ]
    }
   ],
   "source": [
    "for i in range(1, 5):\n",
    "    print(f\"Ini adalah lantai {i}\")\n",
    "    if i == 2:\n",
    "        print(f\"Berhenti di lantai {i}\")\n",
    "        break\n",
    "\n",
    "    print(f\"Melewati lantai {i}\")"
   ]
  },
  {
   "cell_type": "code",
   "execution_count": 11,
   "id": "33b1c2f5",
   "metadata": {},
   "outputs": [
    {
     "name": "stdout",
     "output_type": "stream",
     "text": [
      "Ini adalah lantai 1\n",
      "Melewati lantai 1\n",
      "Ini adalah lantai 2\n",
      "Melewati lantai 2\n",
      "Ini adalah lantai 3\n",
      "Berhenti di lantai 3\n"
     ]
    }
   ],
   "source": [
    "for i in range(1, 5):\n",
    "    print(f\"Ini adalah lantai {i}\")\n",
    "    \n",
    "    if i != 3:\n",
    "        print(f\"Melewati lantai {i}\")\n",
    "        continue\n",
    "\n",
    "    print(\"Berhenti di lantai 3\")\n",
    "    break\n"
   ]
  },
  {
   "cell_type": "code",
   "execution_count": 12,
   "id": "51beb1c8",
   "metadata": {},
   "outputs": [
    {
     "name": "stdout",
     "output_type": "stream",
     "text": [
      "Total sementara adalah 2\n",
      "Total sementara adalah 14\n",
      "Total sementara adalah 22\n",
      "Total sementara adalah 27\n",
      "Total akhir adalah 27\n"
     ]
    }
   ],
   "source": [
    "total = 0\n",
    "for value in [2, 12, 8, 5]:\n",
    "    total = total + value\n",
    "    print(f\"Total sementara adalah {total}\")\n",
    "\n",
    "print(f\"Total akhir adalah {total}\")\n"
   ]
  },
  {
   "cell_type": "code",
   "execution_count": 15,
   "id": "76b17484",
   "metadata": {},
   "outputs": [
    {
     "name": "stdout",
     "output_type": "stream",
     "text": [
      "Masukkan nilai n untuk mencari suku ke-n:30\n",
      "1 3 5 7 9 11 13 15 17 19 21 23 25 27 29 31 33 35 37 39 41 43 45 47 49 51 53 55 57 59 \n"
     ]
    }
   ],
   "source": [
    "\"\"\"\n",
    "TODO:\n",
    " 1. Buatlah variabel a bertipe data integer yang bernilai 1 untuk menyimpan nilai suku pertama.\n",
    " 2. Buatlah variabel b bertipe data integer yang bernilai 2 untuk menyimpan nilai beda antar suku.\n",
    " 3. Buatlah perintah untuk meminta masukan pengguna yang bertipe data integer dan simpan pada variabel n sebagai nilai suku yang ingin diketahui.\n",
    " 4. Lakukan perulangan mulai dari 1 hingga n+1 dengan\n",
    "    4.1. state i;\n",
    "    4.2. menghitung suku ke-n berdasarkan state i dan simpan pada variabel Un; dan\n",
    "    4.3. mencetak setiap variabel Un menggunakan perintah print dan parameter end.\n",
    " 5. Lakukan pemberhentian mencetak teks dengan perintah print tanpa isi.\n",
    "\"\"\"\n",
    "\n",
    "a:int = 1\n",
    "b:int = 2\n",
    "\n",
    "n:int = int(input(\"Masukkan nilai n untuk mencari suku ke-n:\"))\n",
    "\n",
    "for i in range(1, n+1):\n",
    "    Un:int = a + (i-1) * b\n",
    "    print(Un, end=\" \")\n",
    "\n",
    "print(\"\")\n"
   ]
  },
  {
   "cell_type": "markdown",
   "id": "310cb211",
   "metadata": {},
   "source": [
    "perulangan bintang"
   ]
  },
  {
   "cell_type": "code",
   "execution_count": 16,
   "id": "7070209c",
   "metadata": {},
   "outputs": [
    {
     "name": "stdout",
     "output_type": "stream",
     "text": [
      "* * * * * \n",
      "* * * * \n",
      "* * * \n",
      "* * \n",
      "* \n"
     ]
    }
   ],
   "source": [
    "for i in range(5, 0, -1) :\n",
    "    for j in range (i, 0, -1):\n",
    "        print('*', end = ' ')\n",
    "    print(\"\")\n",
    "    \n",
    "    if i == 2 :\n",
    "        continue"
   ]
  },
  {
   "cell_type": "code",
   "execution_count": 17,
   "id": "db545d43",
   "metadata": {},
   "outputs": [
    {
     "name": "stdout",
     "output_type": "stream",
     "text": [
      "* * * * * \n",
      "* * * * \n",
      "* * * \n",
      "* * \n",
      "* \n"
     ]
    }
   ],
   "source": [
    "i = 5\n",
    "\n",
    "while i > 0:\n",
    "    j = i\n",
    "    i-=1\n",
    "    while j > 0:\n",
    "        print('*', end = ' ')\n",
    "        j-=1\n",
    "    print(\"\")"
   ]
  },
  {
   "cell_type": "code",
   "execution_count": 18,
   "id": "7ffd650f",
   "metadata": {},
   "outputs": [
    {
     "name": "stdout",
     "output_type": "stream",
     "text": [
      "* * * * * \n",
      "* * * * \n",
      "* * * \n",
      "* * \n",
      "* \n"
     ]
    }
   ],
   "source": [
    "for i in range(5, 0, -1) :\n",
    "    for j in range (i, 0, -1):\n",
    "        print('*', end = ' ')\n",
    "    print(\"\")"
   ]
  },
  {
   "cell_type": "code",
   "execution_count": 19,
   "id": "c5e92e16",
   "metadata": {},
   "outputs": [
    {
     "name": "stdout",
     "output_type": "stream",
     "text": [
      "* * * * * \n",
      "* * * * \n",
      "* * \n",
      "* \n"
     ]
    }
   ],
   "source": [
    "i = 5\n",
    "\n",
    "while i > 0:\n",
    "    j = i\n",
    "    i-=1\n",
    "    if i == 2:\n",
    "        continue\n",
    "    \n",
    "    while j > 0:\n",
    "        print('*', end = ' ')\n",
    "        j-=1\n",
    "    print(\"\")"
   ]
  },
  {
   "cell_type": "markdown",
   "id": "30c84f43",
   "metadata": {},
   "source": [
    "mater mendeklarasikan sebuah fungsi dengan baik"
   ]
  },
  {
   "cell_type": "code",
   "execution_count": 20,
   "id": "2eaff27a",
   "metadata": {},
   "outputs": [
    {
     "name": "stdout",
     "output_type": "stream",
     "text": [
      "hasil y adalah 5\n"
     ]
    }
   ],
   "source": [
    "def f(x):\n",
    "    return x+1\n",
    "y= f(4)\n",
    "\n",
    "print(f\"hasil y adalah {y}\")"
   ]
  },
  {
   "cell_type": "code",
   "execution_count": 23,
   "id": "37d463fc",
   "metadata": {},
   "outputs": [
    {
     "name": "stdout",
     "output_type": "stream",
     "text": [
      "36000\n"
     ]
    }
   ],
   "source": [
    "def bayar_makan(jumlah, harga_porsi=12000):\n",
    "    total_bayar= jumlah*harga_porsi\n",
    "    return total_bayar\n",
    "\n",
    "\n",
    "\n",
    "print(total)"
   ]
  },
  {
   "cell_type": "code",
   "execution_count": 24,
   "id": "47322dd9",
   "metadata": {},
   "outputs": [
    {
     "name": "stdout",
     "output_type": "stream",
     "text": [
      "12.0\n"
     ]
    }
   ],
   "source": [
    "def menghitung_luas_trapesium(sisi_atas, sisi_bawah, tinggi):\n",
    "    luas_trapesium = 0.5 * (sisi_atas + sisi_atas) * tinggi\n",
    "    return luas_trapesium\n",
    " \n",
    "y = menghitung_luas_trapesium(3, 2, 4)\n",
    "print(y)"
   ]
  },
  {
   "cell_type": "markdown",
   "id": "98c986fa",
   "metadata": {},
   "source": [
    "source code untuk prosedur"
   ]
  },
  {
   "cell_type": "code",
   "execution_count": 26,
   "id": "6f94874a",
   "metadata": {},
   "outputs": [
    {
     "name": "stdout",
     "output_type": "stream",
     "text": [
      "saya sedang makan terong batang\n"
     ]
    }
   ],
   "source": [
    "def eatsomething(food):\n",
    "    print(f\"saya sedang makan {food}\")\n",
    "    \n",
    "eatsomething(\"terong batang\")"
   ]
  },
  {
   "cell_type": "markdown",
   "id": "4c694deb",
   "metadata": {},
   "source": [
    "fungsi menggunakan annotasi kayak di variable"
   ]
  },
  {
   "cell_type": "code",
   "execution_count": 28,
   "id": "53eec6d3",
   "metadata": {},
   "outputs": [
    {
     "name": "stdout",
     "output_type": "stream",
     "text": [
      "26000\n"
     ]
    }
   ],
   "source": [
    "def bayar_makanan(jumlah: int, harga_per_porsi: int = 10000) -> int: #pendeklarasian anotasi dalam fungsi\n",
    "    total_bayar: int = jumlah * harga_per_porsi\n",
    "    return total_bayar\n",
    " \n",
    "total: int  = bayar_makanan(2, 13000)\n",
    "print(total)"
   ]
  },
  {
   "cell_type": "markdown",
   "id": "d6ca6721",
   "metadata": {},
   "source": [
    "annotasi pada prosesur"
   ]
  },
  {
   "cell_type": "code",
   "execution_count": 29,
   "id": "ae016792",
   "metadata": {},
   "outputs": [
    {
     "name": "stdout",
     "output_type": "stream",
     "text": [
      "Saya sedang makan Mi Ayam.\n"
     ]
    }
   ],
   "source": [
    "def eatSomething(food: str):     # tidak perlu anotasi pada prosedur\n",
    "    print(f\"Saya sedang makan {food}.\")\n",
    "    return\n",
    " \n",
    "eatSomething(\"Mi Ayam\")\n",
    " \n",
    "# Output: Saya sedang makan Mi Ayam."
   ]
  },
  {
   "cell_type": "code",
   "execution_count": 30,
   "id": "33f4e178",
   "metadata": {},
   "outputs": [
    {
     "name": "stdout",
     "output_type": "stream",
     "text": [
      "masukkan panjang Ruang: \n",
      "43.6\n",
      "masukkan lebar Ruang: \n",
      "32.8\n",
      "masukkan tinggi Ruang: \n",
      "1.5\n",
      "Jumlah cat yang Anda perlukan adalah 19.1 liter.\n"
     ]
    }
   ],
   "source": [
    "\"\"\"\n",
    "TODO:\n",
    " 1. Buatlah perintah untuk meminta masukan pengguna yang bertipe data float dan simpan pada variabel panjangRuang.\n",
    " 2. Buatlah perintah untuk meminta masukan pengguna yang bertipe data float dan simpan pada variabel lebarRuang.\n",
    " 3. Buatlah perintah untuk meminta masukan pengguna yang bertipe data float dan simpan pada variabel tinggiRuang.\n",
    " 4. Buatlah fungsi bernama hitungCat yang memiliki parameter panjangRuang, lebarRuang, dan tinggiRuang.\n",
    "    4.1. Hitung keliling ruangan dengan rumus keliling persegi panjang dan simpan pada variabel kelilingRuang.\n",
    "    4.2. Hitung jumlah liter cat yang akan dipakai dengan rumus di atas.\n",
    "    4.3. Fungsi ini mengembalikan nilai float yang menyatakan jumlah liter cat berdasarkan ketiga nilai tersebut.\n",
    "    4.4. Simpan hasil fungsi pada variabel jumlahLiter.\n",
    " 5. Cetak nilai jumlahLiter pada teks \"Jumlah cat yang Anda perlukan adalah {jumlahLiter} liter.\"\n",
    "\"\"\"\n",
    "\n",
    "panjangRuang: float = float(input(\"masukkan panjang Ruang: \\n\"))\n",
    "lebarRuang: float = float(input(\"masukkan lebar Ruang: \\n\"))\n",
    "tinggiRuang: float = float(input(\"masukkan tinggi Ruang: \\n\"))\n",
    "\n",
    "def hitungCat(panjangRuang: float, lebarRuang: float, tinggiRuang: float ) -> float:\n",
    "    kelilingRuang:float = 2 * (panjangRuang + lebarRuang)\n",
    "    jumlahLiter:float = (kelilingRuang * tinggiRuang) / 12\n",
    "    \n",
    "    return jumlahLiter\n",
    "jumlahLiter: float = hitungCat(panjangRuang, lebarRuang, tinggiRuang)\n",
    "\n",
    "print(f\"Jumlah cat yang Anda perlukan adalah {jumlahLiter} liter.\")"
   ]
  },
  {
   "cell_type": "markdown",
   "id": "acb4de7e",
   "metadata": {},
   "source": [
    "submission berikutnya"
   ]
  },
  {
   "cell_type": "code",
   "execution_count": 32,
   "id": "8f32c910",
   "metadata": {},
   "outputs": [
    {
     "name": "stdout",
     "output_type": "stream",
     "text": [
      "Masukan Angka: 30.5\n",
      "Masukan Angka: 23.6\n",
      "Masukan Angka: 12.7\n",
      "Rumah tidak dapat dibangun berdasarkan ketiga nilai tersebut.\n"
     ]
    }
   ],
   "source": [
    "landArea: float = float(input(\"Masukan Angka: \"))\n",
    "\n",
    "width: float = float(input(\"Masukan Angka: \"))\n",
    "\n",
    "length: float = float(input(\"Masukan Angka: \"))\n",
    "\n",
    "  \n",
    "\n",
    "def checkArea (landArea: float, width: float, length: float) -> bool:\n",
    "\n",
    "  buildingArea = width * length\n",
    "\n",
    "  if buildingArea > landArea:\n",
    "\n",
    "    return False\n",
    "\n",
    "  else:\n",
    "\n",
    "    return True\n",
    "\n",
    "\n",
    "\n",
    "check: bool = checkArea(landArea, width, length)\n",
    "\n",
    "\n",
    "\n",
    "if check == False:\n",
    "\n",
    "    print(\"Rumah tidak dapat dibangun berdasarkan ketiga nilai tersebut.\")\n",
    "\n",
    "else:\n",
    "\n",
    "    print(\"Rumah dapat dibangun berdasarkan ketiga nilai tersebut.\")"
   ]
  },
  {
   "cell_type": "code",
   "execution_count": 1,
   "id": "a2502235",
   "metadata": {},
   "outputs": [
    {
     "name": "stdout",
     "output_type": "stream",
     "text": [
      "Masukkan nilai permission (1 untuk True, 0 untuk False): \n",
      "0\n",
      "Masukkan nama kota: \n",
      "merauke\n",
      "Anda tidak bisa membangun rumah di kota merauke karena berkas belum lengkap.\n"
     ]
    }
   ],
   "source": [
    "# 1. Minta masukan permission\n",
    "\n",
    "print(\"Masukkan nilai permission (1 untuk True, 0 untuk False): \")\n",
    "\n",
    "permission: int = int(input())\n",
    "\n",
    "\n",
    "\n",
    "# 2. Minta masukan city\n",
    "\n",
    "print(\"Masukkan nama kota: \")\n",
    "\n",
    "city: str = str(input())\n",
    "\n",
    "\n",
    "\n",
    "# 3. Buat prosedur checkPermission\n",
    "\n",
    "def checkPermission(permission: int, city: str):\n",
    "\n",
    "    if permission == 1:\n",
    "\n",
    "        print(f\"Anda dapat membangun rumah di kota {city}.\")\n",
    "\n",
    "    else:\n",
    "\n",
    "        print(f\"Anda tidak bisa membangun rumah di kota {city} karena berkas belum lengkap.\")\n",
    "\n",
    "\n",
    "\n",
    "# Panggil prosedur checkPermission\n",
    "\n",
    "checkPermission(permission, city)\n",
    "\n"
   ]
  },
  {
   "cell_type": "markdown",
   "id": "fffe01c0",
   "metadata": {},
   "source": [
    "pencarian data dalam program python"
   ]
  },
  {
   "cell_type": "code",
   "execution_count": 2,
   "id": "f56d6596",
   "metadata": {},
   "outputs": [
    {
     "name": "stdout",
     "output_type": "stream",
     "text": [
      "Angka 42 ditemukan pada indeks ke-8.\n"
     ]
    }
   ],
   "source": [
    "numbers = [23,99,55,49,89,72,9,13,42,62]\n",
    "number_what_we_looking_for = 42\n",
    "\n",
    "i = 0\n",
    "\n",
    "while i < len(numbers) and numbers[i] != number_what_we_looking_for:\n",
    "    i = i + 1\n",
    "\n",
    "if numbers[i] == number_what_we_looking_for:\n",
    "    print(f\"Angka {number_what_we_looking_for} ditemukan pada indeks ke-{i}.\")\n",
    "else:\n",
    "    print(\"Angka tidak ditemukan dalam kumpulan data.\")\n",
    "\n",
    "# Output: Angka 42 ditemukan pada indeks ke-8."
   ]
  },
  {
   "cell_type": "code",
   "execution_count": 3,
   "id": "eb18e9ba",
   "metadata": {},
   "outputs": [
    {
     "name": "stdout",
     "output_type": "stream",
     "text": [
      "Angka tidak ditemukan dalam kumpulan data.\n"
     ]
    }
   ],
   "source": [
    "def sequential_search_without_boolean(arr: list, target: any) -> int:\n",
    "    i = 0\n",
    "    while i < len(numbers):\n",
    "        if numbers[i] == number_what_we_looking_for:\n",
    "            return i\n",
    "        i = i + 1\n",
    "    return -1\n",
    "\n",
    "numbers = [23,99,55,49,89,72,9,13,42,62]\n",
    "number_what_we_looking_for = 52\n",
    "\n",
    "output = sequential_search_without_boolean(numbers, number_what_we_looking_for)\n",
    "if output != -1:\n",
    "    print(f\"Angka {number_what_we_looking_for} ditemukan pada indeks ke-{output}.\")\n",
    "else:\n",
    "    print(\"Angka tidak ditemukan dalam kumpulan data.\")\n",
    "\n",
    "# Output: Angka tidak ditemukan dalam kumpulan data."
   ]
  },
  {
   "cell_type": "markdown",
   "id": "1f9b65ef",
   "metadata": {},
   "source": [
    "pencarian data menggunakan tipe data boolean"
   ]
  },
  {
   "cell_type": "code",
   "execution_count": 4,
   "id": "96019a6f",
   "metadata": {},
   "outputs": [
    {
     "name": "stdout",
     "output_type": "stream",
     "text": [
      "Angka 42 ditemukan pada indeks ke-8.\n"
     ]
    }
   ],
   "source": [
    "numbers = [23,99,55,49,89,72,9,13,42,62]\n",
    "number_what_we_looking_for = 42\n",
    "\n",
    "found = False\n",
    "i = 0\n",
    "\n",
    "while i < len(numbers) and not found:\n",
    "    if numbers[i] == number_what_we_looking_for:\n",
    "        found = True\n",
    "    else:\n",
    "        i = i + 1\n",
    "\n",
    "if found:\n",
    "    print(f\"Angka {number_what_we_looking_for} ditemukan pada indeks ke-{i}.\")\n",
    "else:\n",
    "    print(\"Angka tidak ditemukan dalam kumpulan data.\")\n",
    "\n",
    "# Output: Angka 42 ditemukan pada indeks ke-8."
   ]
  },
  {
   "cell_type": "markdown",
   "id": "ab7edf81",
   "metadata": {},
   "source": [
    "algoritma pencarian data menggunakan sentinel"
   ]
  },
  {
   "cell_type": "code",
   "execution_count": 5,
   "id": "3a7ec0b6",
   "metadata": {},
   "outputs": [
    {
     "name": "stdout",
     "output_type": "stream",
     "text": [
      "Angka 42 ditemukan pada indeks ke-8.\n"
     ]
    }
   ],
   "source": [
    "numbers = [23,99,55,49,89,72,9,13,42,62]\n",
    "number_what_we_looking_for = 42\n",
    "\n",
    "i = 0\n",
    "\n",
    "last = numbers.pop()\n",
    "numbers.append(number_what_we_looking_for)\n",
    "\n",
    "while numbers[i] != number_what_we_looking_for:\n",
    "    i = i + 1\n",
    "\n",
    "numbers[-1] = last\n",
    "\n",
    "if i < len(numbers) - 1 or numbers[-1] == number_what_we_looking_for:\n",
    "    print(f\"Angka {number_what_we_looking_for} ditemukan pada indeks ke-{i}.\")\n",
    "else:\n",
    "    print(\"Angka tidak ditemukan dalam kumpulan data.\")\n",
    "\n",
    "# Output: indeks data = 8"
   ]
  },
  {
   "cell_type": "markdown",
   "id": "29612c2b",
   "metadata": {},
   "source": [
    "pencarian data dengan menggunakan metode short list"
   ]
  },
  {
   "cell_type": "code",
   "execution_count": 6,
   "id": "bc97684b",
   "metadata": {},
   "outputs": [
    {
     "name": "stdout",
     "output_type": "stream",
     "text": [
      "Angka 42 ditemukan pada indeks ke-3.\n"
     ]
    }
   ],
   "source": [
    "numbers = [23,99,55,49,89,72,9,13,42,62]\n",
    "number_what_we_looking_for = 42\n",
    "\n",
    "numbers = sorted(numbers)\n",
    "\n",
    "i = 0\n",
    "\n",
    "last = numbers.pop()\n",
    "numbers.append(number_what_we_looking_for)\n",
    "\n",
    "while numbers[i] != number_what_we_looking_for:\n",
    "    i = i + 1\n",
    "\n",
    "numbers[-1] = last\n",
    "\n",
    "if i < len(numbers) - 1 or numbers[-1] == number_what_we_looking_for:\n",
    "    print(f\"Angka {number_what_we_looking_for} ditemukan pada indeks ke-{i}.\")\n",
    "else:\n",
    "    print(\"Angka tidak ditemukan dalam kumpulan data.\")\n",
    "\n",
    "# Output: Angka 42 ditemukan pada indeks ke-3."
   ]
  },
  {
   "cell_type": "markdown",
   "id": "dd4a798a",
   "metadata": {},
   "source": [
    "pencarian data menggunakan metode binary search"
   ]
  },
  {
   "cell_type": "code",
   "execution_count": 7,
   "id": "1e1cbc81",
   "metadata": {},
   "outputs": [
    {
     "name": "stdout",
     "output_type": "stream",
     "text": [
      "Angka 42 ditemukan pada indeks ke-3.\n"
     ]
    }
   ],
   "source": [
    "numbers = [23,99,55,49,89,72,9,13,42,62]\n",
    "number_what_we_looking_for = 42\n",
    "\n",
    "numbers = sorted(numbers)\n",
    "\n",
    "low = 0\n",
    "high = len(numbers) - 1\n",
    "\n",
    "found = False\n",
    "mid = 0\n",
    "\n",
    "while low <= high and not found:\n",
    "    mid = (low + high) // 2\n",
    "    mid_value = numbers[mid]\n",
    "\n",
    "    if mid_value == number_what_we_looking_for:\n",
    "        found = True\n",
    "    elif mid_value < number_what_we_looking_for:\n",
    "        low = mid + 1\n",
    "    else:\n",
    "        high = mid - 1\n",
    "\n",
    "if found:\n",
    "    print(f\"Angka {number_what_we_looking_for} ditemukan pada indeks ke-{mid}.\")\n",
    "else:\n",
    "    print(\"Angka tidak ditemukan dalam kumpulan data.\")\n",
    "\n",
    "# Output: Angka 42 ditemukan pada indeks ke-3."
   ]
  },
  {
   "cell_type": "markdown",
   "id": "ab461d5e",
   "metadata": {},
   "source": [
    "mengurutkan data dengan counting sort"
   ]
  },
  {
   "cell_type": "code",
   "execution_count": 8,
   "id": "71790f1b",
   "metadata": {},
   "outputs": [
    {
     "name": "stdout",
     "output_type": "stream",
     "text": [
      "Data sebelum diurutkan: [1, 3, 2, 5, 1, 6, 1, 3, 2, 1]\n",
      "Data setelah diurutkan: [1, 1, 1, 1, 2, 2, 3, 3, 5, 6]\n"
     ]
    },
    {
     "data": {
      "text/plain": [
       "'\\nOutput:\\nData sebelum diurutkan: [1, 3, 2, 5, 1, 6, 1, 3, 2, 1]\\nData setelah diurutkan: [1, 1, 1, 1, 2, 2, 3, 3, 5, 6]\\n'"
      ]
     },
     "execution_count": 8,
     "metadata": {},
     "output_type": "execute_result"
    }
   ],
   "source": [
    "numbers = [1,3,2,5,1,6,1,3,2,1]\n",
    "\n",
    "max_value = max(numbers)  # Menentukan nilai maksimum dalam data\n",
    "min_value = min(numbers)  # Menentukan nilai minimum dalam data\n",
    "range_values = max_value - min_value + 1  # Mencari rentang nilai data\n",
    "\n",
    "# Membuat list kosong untuk menyimpan frekuensi kemunculan setiap nilai\n",
    "count = [0] * range_values\n",
    "\n",
    "# Menghitung frekuensi kemunculan setiap nilai dalam data\n",
    "for num in numbers:\n",
    "    count[num - min_value] += 1\n",
    "\n",
    "# Mengakumulasi jumlah dalam count list\n",
    "for i in range(1, range_values):\n",
    "    count[i] += count[i - 1]\n",
    "\n",
    "# Membuat list kosong baru untuk menyimpan data yang sudah diurutkan\n",
    "sorted_numbers = [0] * len(numbers)\n",
    "\n",
    "# Mengatur data yang akan diurutkan berdasarkan count list\n",
    "for num in numbers:\n",
    "    index = count[num - min_value] - 1\n",
    "    sorted_numbers[index] = num\n",
    "    count[num - min_value] -= 1\n",
    "\n",
    "print(\"Data sebelum diurutkan:\", numbers)\n",
    "print(\"Data setelah diurutkan:\", sorted_numbers)\n",
    "\n",
    "'''\n",
    "Output:\n",
    "Data sebelum diurutkan: [1, 3, 2, 5, 1, 6, 1, 3, 2, 1]\n",
    "Data setelah diurutkan: [1, 1, 1, 1, 2, 2, 3, 3, 5, 6]\n",
    "'''"
   ]
  },
  {
   "cell_type": "markdown",
   "id": "6836c95e",
   "metadata": {},
   "source": [
    "metode pengurutan data menggunakan selection sort"
   ]
  },
  {
   "cell_type": "code",
   "execution_count": 9,
   "id": "8d3bafd1",
   "metadata": {},
   "outputs": [
    {
     "name": "stdout",
     "output_type": "stream",
     "text": [
      "Data sebelum diurutkan: [1, 3, 2, 5, 1, 6, 1, 3, 2, 1]\n",
      "Data setelah diurutkan: [1, 1, 1, 1, 2, 2, 3, 3, 5, 6]\n"
     ]
    },
    {
     "data": {
      "text/plain": [
       "'\\nOutput:\\nData sebelum diurutkan: [1, 3, 2, 5, 1, 6, 1, 3, 2, 1]\\nData setelah diurutkan: [1, 1, 1, 1, 2, 2, 3, 3, 5, 6]\\n'"
      ]
     },
     "execution_count": 9,
     "metadata": {},
     "output_type": "execute_result"
    }
   ],
   "source": [
    "def selection_sort(numbers: list) -> list:\n",
    "    sorted_numbers = numbers.copy()\n",
    "    n = len(sorted_numbers)\n",
    "    for i in range(n):\n",
    "        # Anggap elemen pertama dari sisa data yang belum diurutkan adalah elemen terkecil\n",
    "        min_index = i\n",
    "        \n",
    "        # Mencari elemen terkecil dari sisa data yang belum diurutkan\n",
    "        for j in range(i+1, n):\n",
    "            if sorted_numbers[j] < sorted_numbers[min_index]:\n",
    "                min_index = j\n",
    "        \n",
    "        # Menukar elemen terkecil dengan elemen pertama dari data yang belum diurutkan\n",
    "        sorted_numbers[i], sorted_numbers[min_index] = sorted_numbers[min_index], sorted_numbers[i]\n",
    "    \n",
    "    return sorted_numbers\n",
    "\n",
    "# main program\n",
    "numbers = [1,3,2,5,1,6,1,3,2,1]\n",
    "\n",
    "sorted_data_selection_sort = selection_sort(numbers)\n",
    "print(\"Data sebelum diurutkan:\", numbers)\n",
    "print(\"Data setelah diurutkan:\", sorted_data_selection_sort)\n",
    "\n",
    "'''\n",
    "Output:\n",
    "Data sebelum diurutkan: [1, 3, 2, 5, 1, 6, 1, 3, 2, 1]\n",
    "Data setelah diurutkan: [1, 1, 1, 1, 2, 2, 3, 3, 5, 6]\n",
    "'''"
   ]
  },
  {
   "cell_type": "markdown",
   "id": "53d96739",
   "metadata": {},
   "source": [
    "metode pengurutan data menggunakan bubble sort"
   ]
  },
  {
   "cell_type": "code",
   "execution_count": 10,
   "id": "36428eaa",
   "metadata": {},
   "outputs": [
    {
     "name": "stdout",
     "output_type": "stream",
     "text": [
      "Data sebelum diurutkan: [1, 3, 2, 5, 1, 6, 1, 3, 2, 1]\n",
      "Data setelah diurutkan: [1, 1, 1, 1, 2, 2, 3, 3, 5, 6]\n"
     ]
    },
    {
     "data": {
      "text/plain": [
       "'\\nOutput:\\nData sebelum diurutkan: [1, 3, 2, 5, 1, 6, 1, 3, 2, 1]\\nData setelah diurutkan: [1, 1, 1, 1, 2, 2, 3, 3, 5, 6]\\n'"
      ]
     },
     "execution_count": 10,
     "metadata": {},
     "output_type": "execute_result"
    }
   ],
   "source": [
    "def bubble_sort(numbers: list) -> list:\n",
    "    sorted_numbers = numbers.copy()\n",
    "    n = len(sorted_numbers)\n",
    "\n",
    "    for i in range(n):\n",
    "\n",
    "        for j in range(0, n - i - 1):\n",
    "\n",
    "            if sorted_numbers[j] > sorted_numbers[j + 1]:\n",
    "                sorted_numbers[j], sorted_numbers[j+1]= sorted_numbers[j+1], sorted_numbers[j]\n",
    "\n",
    "    return sorted_numbers\n",
    "\n",
    "# main program\n",
    "numbers = [1,3,2,5,1,6,1,3,2,1]\n",
    "\n",
    "sorted_data_bubble_sort = bubble_sort(numbers)\n",
    "print(\"Data sebelum diurutkan:\", numbers)\n",
    "print(\"Data setelah diurutkan:\", sorted_data_bubble_sort)\n",
    "\n",
    "'''\n",
    "Output:\n",
    "Data sebelum diurutkan: [1, 3, 2, 5, 1, 6, 1, 3, 2, 1]\n",
    "Data setelah diurutkan: [1, 1, 1, 1, 2, 2, 3, 3, 5, 6]\n",
    "'''"
   ]
  },
  {
   "cell_type": "markdown",
   "id": "d013f0e8",
   "metadata": {},
   "source": [
    "metode pengurutan data menggunakan insertion sort"
   ]
  },
  {
   "cell_type": "code",
   "execution_count": 11,
   "id": "4f9d5d48",
   "metadata": {},
   "outputs": [
    {
     "name": "stdout",
     "output_type": "stream",
     "text": [
      "Data sebelum diurutkan: [1, 3, 2, 5, 1, 6, 1, 3, 2, 1]\n",
      "Data setelah diurutkan: [1, 1, 1, 1, 2, 2, 3, 3, 5, 6]\n"
     ]
    },
    {
     "data": {
      "text/plain": [
       "'\\nOutput:\\nData sebelum diurutkan: [1, 3, 2, 5, 1, 6, 1, 3, 2, 1]\\nData setelah diurutkan: [1, 1, 1, 1, 2, 2, 3, 3, 5, 6]\\n'"
      ]
     },
     "execution_count": 11,
     "metadata": {},
     "output_type": "execute_result"
    }
   ],
   "source": [
    "def insertion_sort(numbers: list) -> list:\n",
    "    sorted_numbers = numbers.copy()\n",
    "    n = len(sorted_numbers)\n",
    "\n",
    "    for i in range(1, n):\n",
    "        key = sorted_numbers[i]\n",
    "        j = i - 1\n",
    "\n",
    "        while j >= 0 and key < sorted_numbers[j]:\n",
    "            sorted_numbers[j + 1] = sorted_numbers[j]\n",
    "            j -= 1\n",
    "        \n",
    "        sorted_numbers[j + 1] = key\n",
    "\n",
    "    return sorted_numbers\n",
    "\n",
    "# main program\n",
    "numbers = [1,3,2,5,1,6,1,3,2,1]\n",
    "\n",
    "sorted_data_insertion_sort = insertion_sort(numbers)\n",
    "print(\"Data sebelum diurutkan:\", numbers)\n",
    "print(\"Data setelah diurutkan:\", sorted_data_insertion_sort)\n",
    "\n",
    "'''\n",
    "Output:\n",
    "Data sebelum diurutkan: [1, 3, 2, 5, 1, 6, 1, 3, 2, 1]\n",
    "Data setelah diurutkan: [1, 1, 1, 1, 2, 2, 3, 3, 5, 6]\n",
    "'''"
   ]
  },
  {
   "cell_type": "markdown",
   "id": "314c5ef5",
   "metadata": {},
   "source": [
    "fungsi fibionacy"
   ]
  },
  {
   "cell_type": "code",
   "execution_count": 12,
   "id": "06cfc9f2",
   "metadata": {},
   "outputs": [
    {
     "name": "stdout",
     "output_type": "stream",
     "text": [
      "Fibonacci dari 8 adalah 21.\n"
     ]
    }
   ],
   "source": [
    "def fibonacci(n: int) -> int:\n",
    "    if n == 0:\n",
    "        return 0\n",
    "    elif n == 1:\n",
    "        return 1\n",
    "    else:\n",
    "        return fibonacci(n-1) + fibonacci(n-2)\n",
    "\n",
    "n = 8\n",
    "hitung_fibonacci = fibonacci(n)\n",
    "print(f\"Fibonacci dari {n} adalah {hitung_fibonacci}.\")\n",
    "\n",
    "# Output: Fibonacci dari 8 adalah 21."
   ]
  },
  {
   "cell_type": "code",
   "execution_count": null,
   "id": "74eec042",
   "metadata": {},
   "outputs": [],
   "source": []
  }
 ],
 "metadata": {
  "kernelspec": {
   "display_name": "Python 3",
   "language": "python",
   "name": "python3"
  },
  "language_info": {
   "codemirror_mode": {
    "name": "ipython",
    "version": 3
   },
   "file_extension": ".py",
   "mimetype": "text/x-python",
   "name": "python",
   "nbconvert_exporter": "python",
   "pygments_lexer": "ipython3",
   "version": "3.8.8"
  }
 },
 "nbformat": 4,
 "nbformat_minor": 5
}
