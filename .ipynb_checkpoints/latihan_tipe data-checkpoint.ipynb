{
 "cells": [
  {
   "cell_type": "code",
   "execution_count": 9,
   "id": "3c0eed43",
   "metadata": {},
   "outputs": [
    {
     "name": "stdout",
     "output_type": "stream",
     "text": [
      "37\n",
      "90\n"
     ]
    }
   ],
   "source": [
    "#deklarasi variabel list\n",
    "\n",
    "numbers = [1,9,90,23,56]\n",
    "\n",
    "numbers[0] =37\n",
    "print(numbers[0])\n",
    "print(numbers[2])\n",
    "\n",
    "numbers.insert(34,69)\n"
   ]
  },
  {
   "cell_type": "code",
   "execution_count": null,
   "id": "7a40b2d8",
   "metadata": {},
   "outputs": [],
   "source": [
    "##latihan dictionarry"
   ]
  },
  {
   "cell_type": "code",
   "execution_count": 2,
   "id": "a46d3a63",
   "metadata": {},
   "outputs": [
    {
     "name": "stdout",
     "output_type": "stream",
     "text": [
      "{'hh': 9, 'mm': 23, 'ss': 57}\n",
      "{'hh': 15, 'mm': 25, 'ss': 43}\n"
     ]
    }
   ],
   "source": [
    "startTime ={\"hh\":9, \"mm\":23,\"ss\":57}\n",
    "endTime = {\"hh\":15,\"mm\":25,\"ss\":43}\n",
    "\n",
    "print(startTime)\n",
    "print(endTime)"
   ]
  },
  {
   "cell_type": "code",
   "execution_count": 5,
   "id": "6bb61e06",
   "metadata": {},
   "outputs": [
    {
     "name": "stdout",
     "output_type": "stream",
     "text": [
      "uang kembali yang di dapat oleh bima setelah membeli mie ayam basso adalah:8000\n"
     ]
    }
   ],
   "source": [
    "food = \"mie ayam baso\"\n",
    "harga = 12000\n",
    "jumlah_duit = 20000\n",
    "\n",
    "kembalian = jumlah_duit - harga\n",
    "\n",
    "#menyisipkan dan mencetak variable pada sebuah baris text menggunakan perintah print(f\"...\")\n",
    "print(f\"uang kembali yang di dapat oleh bima setelah membeli mie ayam basso adalah:{kembalian}\")"
   ]
  },
  {
   "cell_type": "markdown",
   "id": "f0a2299d",
   "metadata": {},
   "source": [
    "membuat source code inputan menggunakan perintah input()"
   ]
  },
  {
   "cell_type": "code",
   "execution_count": 6,
   "id": "becf28f2",
   "metadata": {},
   "outputs": [
    {
     "name": "stdout",
     "output_type": "stream",
     "text": [
      "berapa harga mie ayam baso? \n",
      "12000\n",
      "harganya adalah: \n",
      "12000\n",
      "kembalian uang kamu adalah sejumlah 8000\n"
     ]
    }
   ],
   "source": [
    "#perintah \\n di gunakan untuk mengakhiri baris perintah ketika input di masukkan\n",
    "harga_makan = int(input(\"berapa harga mie ayam baso? \\n\"))\n",
    "harga_mie = int(input(\"harganya adalah: \\n\"))\n",
    "duit = 20000\n",
    "\n",
    "kembalian = duit - harga_makan\n",
    "\n",
    "print(f\"kembalian uang kamu adalah sejumlah {kembalian}\")"
   ]
  },
  {
   "cell_type": "code",
   "execution_count": 9,
   "id": "e7e1e556",
   "metadata": {},
   "outputs": [
    {
     "name": "stdout",
     "output_type": "stream",
     "text": [
      "masukkan jumlah stok chocolateBar: 10\n",
      "Stok saat ini adalah 40 buah.\n"
     ]
    }
   ],
   "source": [
    "#contoh soal dua dari source dicoding\n",
    "# Tulis kode Anda di bawah ini\n",
    "chocolateBarStock:int = 50\n",
    "    \n",
    "chocolateBarCount=int(input(\"masukkan jumlah stok chocolateBar: \"))\n",
    "\n",
    "newChocolateBarStock:int = chocolateBarStock - chocolateBarCount\n",
    "    \n",
    "print(f\"Stok saat ini adalah {newChocolateBarStock} buah.\")"
   ]
  },
  {
   "cell_type": "code",
   "execution_count": null,
   "id": "287a1c1e",
   "metadata": {},
   "outputs": [],
   "source": []
  }
 ],
 "metadata": {
  "kernelspec": {
   "display_name": "Python 3",
   "language": "python",
   "name": "python3"
  },
  "language_info": {
   "codemirror_mode": {
    "name": "ipython",
    "version": 3
   },
   "file_extension": ".py",
   "mimetype": "text/x-python",
   "name": "python",
   "nbconvert_exporter": "python",
   "pygments_lexer": "ipython3",
   "version": "3.8.8"
  }
 },
 "nbformat": 4,
 "nbformat_minor": 5
}
